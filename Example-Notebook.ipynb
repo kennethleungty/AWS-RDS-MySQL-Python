{
 "cells": [
  {
   "cell_type": "markdown",
   "id": "2ec6e0e7",
   "metadata": {},
   "source": [
    "# Using PyMySQL to access and modify RDS MySQL Database Instance"
   ]
  },
  {
   "cell_type": "markdown",
   "id": "29d02d2b",
   "metadata": {},
   "source": [
    "### Necessary imports"
   ]
  },
  {
   "cell_type": "code",
   "execution_count": 1,
   "id": "f4706480",
   "metadata": {},
   "outputs": [],
   "source": [
    "import pymysql.cursors\n",
    "from config import *  # Import parameters for PyMySQL connection e.g. ENDPOINT, PORT etc."
   ]
  },
  {
   "cell_type": "markdown",
   "id": "5ea1c5d0",
   "metadata": {},
   "source": [
    "___\n",
    "### Create RDS connection"
   ]
  },
  {
   "cell_type": "code",
   "execution_count": 2,
   "id": "66a73d8e",
   "metadata": {},
   "outputs": [],
   "source": [
    "def start_rds_connection():\n",
    "    try:\n",
    "        connection = pymysql.connect(host=ENDPOINT,\n",
    "                                     port=PORT,\n",
    "                                     user=USERNAME,\n",
    "                                     passwd=PASSWORD,\n",
    "                                     db=DBNAME,\n",
    "                                     cursorclass=CURSORCLASS,\n",
    "                                     ssl_ca=SSL_CA)\n",
    "        print('[+] RDS Connection Successful')\n",
    "    except Exception as e:\n",
    "        print(f'[-] RDS Connection Failed: {e}')\n",
    "        connection = None\n",
    "\n",
    "    return connection"
   ]
  },
  {
   "cell_type": "code",
   "execution_count": 3,
   "id": "961eb394",
   "metadata": {},
   "outputs": [
    {
     "name": "stdout",
     "output_type": "stream",
     "text": [
      "[+] RDS Connection Successful\n"
     ]
    }
   ],
   "source": [
    "# Initiate RDS connection\n",
    "connection = start_rds_connection()"
   ]
  },
  {
   "cell_type": "markdown",
   "id": "49ffd330",
   "metadata": {},
   "source": [
    "___\n",
    "### Run CRUD Operations (e.g. INSERT)"
   ]
  },
  {
   "cell_type": "code",
   "execution_count": 4,
   "id": "dc36379b",
   "metadata": {},
   "outputs": [],
   "source": [
    "# Generate dummy Python variables as demo record for insertion into database\n",
    "tableName = 'tblClients'\n",
    "nClientID = 'S0000001A'\n",
    "dtRecordAdded = '2022-01-01'\n",
    "dtLastVisit = '2022-12-31'"
   ]
  },
  {
   "cell_type": "code",
   "execution_count": 5,
   "id": "66a455b6",
   "metadata": {},
   "outputs": [],
   "source": [
    "def insert_record(tableName, nClientID, dtRecordAdded, dtLastVisit):\n",
    "    try:\n",
    "        with connection.cursor() as cursor:\n",
    "            sql = f\"INSERT INTO `{tableName}` (`nClientID`, `dtRecordAdded`, `dtLastVisit`) VALUES (%s, %s, %s)\"\n",
    "            cursor.execute(sql, (nClientID, dtRecordAdded, dtLastVisit))\n",
    "\n",
    "        # Connection is not autocommit by default, so we must commit to save changes\n",
    "        connection.commit()\n",
    "        print(f'Successfully inserted record into {tableName}')\n",
    "        \n",
    "    except Exception as e:\n",
    "        print(f'Error in insertion to MySQL database: {e}')"
   ]
  },
  {
   "cell_type": "code",
   "execution_count": 6,
   "id": "f6894d17",
   "metadata": {},
   "outputs": [
    {
     "name": "stdout",
     "output_type": "stream",
     "text": [
      "Successfully inserted record into tblClients\n"
     ]
    }
   ],
   "source": [
    "insert_record(tableName, nClientID, dtRecordAdded, dtLastVisit)"
   ]
  },
  {
   "cell_type": "markdown",
   "id": "9a1c25f2",
   "metadata": {},
   "source": [
    "### Query table to verify insertion"
   ]
  },
  {
   "cell_type": "code",
   "execution_count": 7,
   "id": "3c5b7bb8",
   "metadata": {},
   "outputs": [
    {
     "name": "stdout",
     "output_type": "stream",
     "text": [
      "[{'nClientID': 'S0000001A', 'dtRecordAdded': datetime.datetime(2022, 1, 1, 0, 0), 'dtLastVisit': datetime.datetime(2022, 12, 31, 0, 0)}]\n"
     ]
    }
   ],
   "source": [
    "with connection.cursor() as cursor:\n",
    "    sql = f\"SELECT * FROM `{tableName}`\"\n",
    "    cursor.execute(sql)\n",
    "    result = cursor.fetchall()\n",
    "    print(result)\n",
    "    \n",
    "connection.commit()"
   ]
  }
 ],
 "metadata": {
  "kernelspec": {
   "display_name": "env_foodking",
   "language": "python",
   "name": "env_foodking"
  },
  "language_info": {
   "codemirror_mode": {
    "name": "ipython",
    "version": 3
   },
   "file_extension": ".py",
   "mimetype": "text/x-python",
   "name": "python",
   "nbconvert_exporter": "python",
   "pygments_lexer": "ipython3",
   "version": "3.9.7"
  }
 },
 "nbformat": 4,
 "nbformat_minor": 5
}

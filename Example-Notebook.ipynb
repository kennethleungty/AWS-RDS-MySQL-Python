{
 "cells": [
  {
   "cell_type": "markdown",
   "id": "909edcb0",
   "metadata": {},
   "source": [
    "## Using PyMySQL to access and modify RDS MySQL Database Instance"
   ]
  },
  {
   "cell_type": "markdown",
   "id": "f4e125bd",
   "metadata": {},
   "source": [
    "### Necessary imports"
   ]
  },
  {
   "cell_type": "code",
   "execution_count": 1,
   "id": "f70c9d8c",
   "metadata": {},
   "outputs": [],
   "source": [
    "import pymysql.cursors\n",
    "from config import *  # Import parameters for PyMySQL connection e.g. ENDPOINT, PORT etc."
   ]
  },
  {
   "cell_type": "markdown",
   "id": "9f6288a7",
   "metadata": {},
   "source": [
    "___\n",
    "### Create RDS connection"
   ]
  },
  {
   "cell_type": "code",
   "execution_count": null,
   "id": "caded1e3",
   "metadata": {},
   "outputs": [],
   "source": [
    "def start_rds_connection():\n",
    "    try:\n",
    "        connection = pymysql.connect(host=ENDPOINT,\n",
    "                                     port=PORT,\n",
    "                                     user=USERNAME,\n",
    "                                     passwd=PASSWORD,\n",
    "                                     db=DBNAME,\n",
    "                                     cursorclass=CURSORCLASS,\n",
    "                                     ssl_ca=SSL_CA)\n",
    "        status = 'Success'\n",
    "        print('[+] RDS Connection Successful')\n",
    "    except Exception as e:\n",
    "        print(f'[+] RDS Connection Failed: {e}')\n",
    "        status, connection = 'Failed', None\n",
    "\n",
    "    return connection, status"
   ]
  },
  {
   "cell_type": "code",
   "execution_count": null,
   "id": "2e6db776",
   "metadata": {},
   "outputs": [],
   "source": [
    "# Initiate RDS connection\n",
    "connection, status = start_rds_connection()"
   ]
  },
  {
   "cell_type": "markdown",
   "id": "42adf77b",
   "metadata": {},
   "source": [
    "___\n",
    "### Run CRUD Operations (e.g. INSERT)"
   ]
  },
  {
   "cell_type": "code",
   "execution_count": null,
   "id": "db24605f",
   "metadata": {},
   "outputs": [],
   "source": [
    "# Generate dummy Python variables as demo record for insertion into database\n",
    "tableName = 'tblClients'\n",
    "nClientID = 'S0000001A'\n",
    "dtRecordAdded = '2022-01-01'\n",
    "dtLastVisit = '2022-12-31'"
   ]
  },
  {
   "cell_type": "code",
   "execution_count": null,
   "id": "361c09da",
   "metadata": {},
   "outputs": [],
   "source": [
    "def insert_record(tableName, nClientID, dtRecordAdded, dtLastVisit):\n",
    "    try:\n",
    "        with connection.cursor() as cursor:\n",
    "            sql = f\"INSERT INTO `{tableName}` (`nClientID`, `dtRecordAdded`, `dtLastVisit`) VALUES (%s, %s, %s)\"\n",
    "            cursor.execute(sql, (nClientID, dtRecordAdded, dtLastVisit))\n",
    "\n",
    "        # connection is not autocommit by default. So you must commit to save your changes.\n",
    "        connection.commit()\n",
    "        print(f'Successfully inserted record into {table_name}')\n",
    "        \n",
    "    except Exception as e:\n",
    "        print(f'Error in insertion to MySQL database: {e}')"
   ]
  }
 ],
 "metadata": {
  "kernelspec": {
   "display_name": "env_foodking",
   "language": "python",
   "name": "env_foodking"
  },
  "language_info": {
   "codemirror_mode": {
    "name": "ipython",
    "version": 3
   },
   "file_extension": ".py",
   "mimetype": "text/x-python",
   "name": "python",
   "nbconvert_exporter": "python",
   "pygments_lexer": "ipython3",
   "version": "3.9.7"
  }
 },
 "nbformat": 4,
 "nbformat_minor": 5
}
